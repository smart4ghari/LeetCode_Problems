{
 "cells": [
  {
   "cell_type": "markdown",
   "id": "79562c5e",
   "metadata": {},
   "source": [
    "Given two strings s and t, return true if t is an anagram of s, and false otherwise.\n",
    "\n",
    "An Anagram is a word or phrase formed by rearranging the letters of a different word or phrase, typically using all the original letters exactly once.\n",
    "\n",
    " \n",
    "\n",
    "Example 1:\n",
    "\n",
    "- Input: s = \"anagram\", t = \"nagaram\"\n",
    "- Output: true\n",
    "\n",
    "Example 2:\n",
    "\n",
    "- Input: s = \"rat\", t = \"car\"\n",
    "- Output: false\n",
    " \n",
    "\n",
    "Constraints:\n",
    "\n",
    "1 <= s.length, t.length <= 5 * 104\n",
    "s and t consist of lowercase English letters.\n",
    " \n",
    "\n",
    "Follow up: What if the inputs contain Unicode characters? How would you adapt your solution to such a case?"
   ]
  },
  {
   "cell_type": "code",
   "execution_count": 11,
   "id": "a490b2ee",
   "metadata": {},
   "outputs": [],
   "source": [
    "class Solution(object):\n",
    "    def isanagram(self,s,t):\n",
    "        # first check the length of the s and t if both aren't same immediately return False\n",
    "        if len(s) != len(t):\n",
    "            return False\n",
    "        # Create two empty dictionaries to store occurrences of characters\n",
    "        dict_s = {}\n",
    "        dict_t = {}\n",
    "        \n",
    "        # Iterate over s to count the occurrences of characters(keys) and their counts(values)\n",
    "        for char in s:\n",
    "            # Here get method will give the value of dictionary values\n",
    "            # Inside get method we've provided 0 assigning it as default value\n",
    "            # Addition of 1 is written whenever our empty dictionary encounters a new value it'll add 1\n",
    "            dict_s[char] = dict_s.get(char,0) + 1\n",
    "        \n",
    "        # Apply the same above logic for t also\n",
    "        for char in t:\n",
    "            dict_t[char] = dict_t.get(char,0) + 1\n",
    "        \n",
    "        # Finally check whether both the dictionary are same\n",
    "        return dict_s == dict_t"
   ]
  },
  {
   "cell_type": "code",
   "execution_count": 12,
   "id": "e4d30a30",
   "metadata": {},
   "outputs": [
    {
     "data": {
      "text/plain": [
       "True"
      ]
     },
     "execution_count": 12,
     "metadata": {},
     "output_type": "execute_result"
    }
   ],
   "source": [
    "# Test case 1\n",
    "s = \"anagram\"\n",
    "t = \"nagaram\"\n",
    "\n",
    "t1 = Solution()\n",
    "t1.isanagram(s,t)"
   ]
  },
  {
   "cell_type": "code",
   "execution_count": 13,
   "id": "273eb933",
   "metadata": {},
   "outputs": [
    {
     "data": {
      "text/plain": [
       "False"
      ]
     },
     "execution_count": 13,
     "metadata": {},
     "output_type": "execute_result"
    }
   ],
   "source": [
    "# Test case 2\n",
    "\n",
    "s = \"Name\"\n",
    "t = \"Fame\"\n",
    "\n",
    "t1 = Solution()\n",
    "t1.isanagram(s,t)"
   ]
  },
  {
   "cell_type": "code",
   "execution_count": 3,
   "id": "3d51a6fe",
   "metadata": {},
   "outputs": [],
   "source": [
    "dic1 = {\"a\":1,\"b\":5,\"c\":3}\n",
    "dic2 = {\"a\":1,\"b\":5,\"c\":4}"
   ]
  },
  {
   "cell_type": "code",
   "execution_count": 4,
   "id": "4ab64d35",
   "metadata": {},
   "outputs": [
    {
     "data": {
      "text/plain": [
       "False"
      ]
     },
     "execution_count": 4,
     "metadata": {},
     "output_type": "execute_result"
    }
   ],
   "source": [
    "dic1 == dic2"
   ]
  },
  {
   "cell_type": "code",
   "execution_count": 7,
   "id": "7e4c69ff",
   "metadata": {},
   "outputs": [],
   "source": [
    "dic2[\"a\"] = dic2.get(\"b\")"
   ]
  },
  {
   "cell_type": "code",
   "execution_count": 8,
   "id": "a8d037e6",
   "metadata": {},
   "outputs": [
    {
     "data": {
      "text/plain": [
       "{'a': 5, 'b': 5, 'c': 4}"
      ]
     },
     "execution_count": 8,
     "metadata": {},
     "output_type": "execute_result"
    }
   ],
   "source": [
    "dic2"
   ]
  },
  {
   "cell_type": "code",
   "execution_count": null,
   "id": "8a802ddd",
   "metadata": {},
   "outputs": [],
   "source": []
  }
 ],
 "metadata": {
  "kernelspec": {
   "display_name": "Python 3 (ipykernel)",
   "language": "python",
   "name": "python3"
  },
  "language_info": {
   "codemirror_mode": {
    "name": "ipython",
    "version": 3
   },
   "file_extension": ".py",
   "mimetype": "text/x-python",
   "name": "python",
   "nbconvert_exporter": "python",
   "pygments_lexer": "ipython3",
   "version": "3.11.3"
  }
 },
 "nbformat": 4,
 "nbformat_minor": 5
}
